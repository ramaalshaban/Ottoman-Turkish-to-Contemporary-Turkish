{
 "cells": [
  {
   "cell_type": "code",
   "execution_count": 1,
   "metadata": {},
   "outputs": [
    {
     "name": "stderr",
     "output_type": "stream",
     "text": [
      "Using TensorFlow backend.\n"
     ]
    },
    {
     "data": {
      "text/plain": [
       "'2.2.5'"
      ]
     },
     "execution_count": 1,
     "metadata": {},
     "output_type": "execute_result"
    }
   ],
   "source": [
    "import keras\n",
    "keras.__version__"
   ]
  },
  {
   "cell_type": "code",
   "execution_count": 3,
   "metadata": {},
   "outputs": [],
   "source": [
    "import os, shutil"
   ]
  },
  {
   "cell_type": "code",
   "execution_count": 4,
   "metadata": {},
   "outputs": [],
   "source": [
    "# The path to the directory where the original\n",
    "# dataset was uncompressed\n",
    "original_dataset_dir = '/home/furkan/Desktop/Demo2/'\n",
    "\n",
    "# The directory where we will\n",
    "# store our smaller dataset\n",
    "base_dir = '/home/furkan/Desktop/Demo2/triple'\n",
    "os.mkdir(base_dir)\n",
    "\n",
    "# Directories for our training,\n",
    "# validation and test splits\n",
    "train_dir = os.path.join(base_dir, 'train')\n",
    "os.mkdir(train_dir)\n",
    "validation_dir = os.path.join(base_dir, 'validation')\n",
    "os.mkdir(validation_dir)\n",
    "test_dir = os.path.join(base_dir, 'test')\n",
    "os.mkdir(test_dir)\n",
    "\n",
    "# Directory with our training ayn pictures\n",
    "train_ayn_dir = os.path.join(train_dir, 'ayn')\n",
    "os.mkdir(train_ayn_dir)\n",
    "\n",
    "# Directory with our training be pictures\n",
    "train_be_dir = os.path.join(train_dir, 'be')\n",
    "os.mkdir(train_be_dir)\n",
    "\n",
    "# Directory with our training che pictures\n",
    "train_che_dir = os.path.join(train_dir, 'che')\n",
    "os.mkdir(train_che_dir)\n",
    "\n",
    "# Directory with our validation ayn pictures\n",
    "validation_ayn_dir = os.path.join(validation_dir, 'ayn')\n",
    "os.mkdir(validation_ayn_dir)\n",
    "\n",
    "# Directory with our validation be pictures\n",
    "validation_be_dir = os.path.join(validation_dir, 'be')\n",
    "os.mkdir(validation_be_dir)\n",
    "\n",
    "# Directory with our validation che pictures\n",
    "validation_che_dir = os.path.join(validation_dir, 'che')\n",
    "os.mkdir(validation_che_dir)\n",
    "\n",
    "# Directory with our test ayn pictures\n",
    "test_ayn_dir = os.path.join(test_dir, 'ayn')\n",
    "os.mkdir(test_ayn_dir)\n",
    "\n",
    "# Directory with our test be pictures\n",
    "test_be_dir = os.path.join(test_dir, 'be')\n",
    "os.mkdir(test_be_dir)\n",
    "\n",
    "# Directory with our test che pictures\n",
    "test_che_dir = os.path.join(test_dir, 'che')\n",
    "os.mkdir(test_che_dir)\n",
    "\n",
    "# Copy first 24 ayn images to train_ayn_dir\n",
    "fnames = ['ayn.{}.png'.format(i) for i in range(24)]\n",
    "for fname in fnames:\n",
    "    src = os.path.join(original_dataset_dir, fname)\n",
    "    dst = os.path.join(train_ayn_dir, fname)\n",
    "    shutil.copyfile(src, dst)\n",
    "\n",
    "# Copy next 6 ayn images to validation_ayn_dir\n",
    "fnames = ['ayn.{}.png'.format(i) for i in range(24, 30)]\n",
    "for fname in fnames:\n",
    "    src = os.path.join(original_dataset_dir, fname)\n",
    "    dst = os.path.join(validation_ayn_dir, fname)\n",
    "    shutil.copyfile(src, dst)\n",
    "    \n",
    "# Copy next 6 ayn images to test_ayn_dir\n",
    "fnames = ['ayn.{}.png'.format(i) for i in range(30, 36)]\n",
    "for fname in fnames:\n",
    "    src = os.path.join(original_dataset_dir, fname)\n",
    "    dst = os.path.join(test_ayn_dir, fname)\n",
    "    shutil.copyfile(src, dst)\n",
    "    \n",
    "# Copy first 24 be images to train_be_dir\n",
    "fnames = ['be.{}.png'.format(i) for i in range(24)]\n",
    "for fname in fnames:\n",
    "    src = os.path.join(original_dataset_dir, fname)\n",
    "    dst = os.path.join(train_be_dir, fname)\n",
    "    shutil.copyfile(src, dst)\n",
    "    \n",
    "# Copy next 6 be images to validation_be_dir\n",
    "fnames = ['be.{}.png'.format(i) for i in range(24, 30)]\n",
    "for fname in fnames:\n",
    "    src = os.path.join(original_dataset_dir, fname)\n",
    "    dst = os.path.join(validation_be_dir, fname)\n",
    "    shutil.copyfile(src, dst)\n",
    "    \n",
    "# Copy next 6 be images to test_be_dir\n",
    "fnames = ['be.{}.png'.format(i) for i in range(30, 36)]\n",
    "for fname in fnames:\n",
    "    src = os.path.join(original_dataset_dir, fname)\n",
    "    dst = os.path.join(test_be_dir, fname)\n",
    "    shutil.copyfile(src, dst)\n",
    "\n",
    "# Copy first 24 che images to train_che_dir\n",
    "fnames = ['che.{}.png'.format(i) for i in range(24)]\n",
    "for fname in fnames:\n",
    "    src = os.path.join(original_dataset_dir, fname)\n",
    "    dst = os.path.join(train_che_dir, fname)\n",
    "    shutil.copyfile(src, dst)\n",
    "    \n",
    "# Copy next 6 che images to validation_che_dir\n",
    "fnames = ['che.{}.png'.format(i) for i in range(24, 30)]\n",
    "for fname in fnames:\n",
    "    src = os.path.join(original_dataset_dir, fname)\n",
    "    dst = os.path.join(validation_che_dir, fname)\n",
    "    shutil.copyfile(src, dst)\n",
    "    \n",
    "# Copy next 6 che images to test_che_dir\n",
    "fnames = ['che.{}.png'.format(i) for i in range(30, 36)]\n",
    "for fname in fnames:\n",
    "    src = os.path.join(original_dataset_dir, fname)\n",
    "    dst = os.path.join(test_che_dir, fname)\n",
    "    shutil.copyfile(src, dst)"
   ]
  },
  {
   "cell_type": "code",
   "execution_count": 5,
   "metadata": {},
   "outputs": [
    {
     "name": "stdout",
     "output_type": "stream",
     "text": [
      "total training ayn images: 24\n"
     ]
    }
   ],
   "source": [
    "print('total training ayn images:', len(os.listdir(train_ayn_dir)))"
   ]
  },
  {
   "cell_type": "code",
   "execution_count": 6,
   "metadata": {},
   "outputs": [
    {
     "name": "stdout",
     "output_type": "stream",
     "text": [
      "total training be images: 24\n"
     ]
    }
   ],
   "source": [
    "print('total training be images:', len(os.listdir(train_be_dir)))"
   ]
  },
  {
   "cell_type": "code",
   "execution_count": 7,
   "metadata": {},
   "outputs": [
    {
     "name": "stdout",
     "output_type": "stream",
     "text": [
      "total training che images: 24\n"
     ]
    }
   ],
   "source": [
    "print('total training che images:', len(os.listdir(train_che_dir)))"
   ]
  },
  {
   "cell_type": "code",
   "execution_count": 8,
   "metadata": {},
   "outputs": [
    {
     "name": "stdout",
     "output_type": "stream",
     "text": [
      "total validation ayn images: 6\n"
     ]
    }
   ],
   "source": [
    "print('total validation ayn images:', len(os.listdir(validation_ayn_dir)))"
   ]
  },
  {
   "cell_type": "code",
   "execution_count": 9,
   "metadata": {},
   "outputs": [
    {
     "name": "stdout",
     "output_type": "stream",
     "text": [
      "total validation be images: 6\n"
     ]
    }
   ],
   "source": [
    "print('total validation be images:', len(os.listdir(validation_be_dir)))"
   ]
  },
  {
   "cell_type": "code",
   "execution_count": 11,
   "metadata": {},
   "outputs": [
    {
     "name": "stdout",
     "output_type": "stream",
     "text": [
      "total validation che images: 6\n"
     ]
    }
   ],
   "source": [
    "print('total validation che images:', len(os.listdir(validation_che_dir)))"
   ]
  },
  {
   "cell_type": "code",
   "execution_count": 12,
   "metadata": {},
   "outputs": [
    {
     "name": "stdout",
     "output_type": "stream",
     "text": [
      "total test ayn images: 6\n"
     ]
    }
   ],
   "source": [
    "print('total test ayn images:', len(os.listdir(test_ayn_dir)))"
   ]
  },
  {
   "cell_type": "code",
   "execution_count": 13,
   "metadata": {},
   "outputs": [
    {
     "name": "stdout",
     "output_type": "stream",
     "text": [
      "total test be images: 6\n"
     ]
    }
   ],
   "source": [
    "print('total test be images:', len(os.listdir(test_be_dir)))"
   ]
  },
  {
   "cell_type": "code",
   "execution_count": 14,
   "metadata": {},
   "outputs": [
    {
     "name": "stdout",
     "output_type": "stream",
     "text": [
      "total test che images: 6\n"
     ]
    }
   ],
   "source": [
    "print('total test che images:', len(os.listdir(test_che_dir)))"
   ]
  },
  {
   "cell_type": "code",
   "execution_count": 28,
   "metadata": {},
   "outputs": [],
   "source": [
    "from keras import layers\n",
    "from keras import models\n",
    "\n",
    "model = models.Sequential()\n",
    "model.add(layers.Conv2D(32, (3, 3), activation='relu',\n",
    "                        input_shape=(150, 150, 3)))\n",
    "model.add(layers.MaxPooling2D((2, 2)))\n",
    "model.add(layers.Conv2D(64, (3, 3), activation='relu'))\n",
    "model.add(layers.MaxPooling2D((2, 2)))\n",
    "model.add(layers.Conv2D(128, (3, 3), activation='relu'))\n",
    "model.add(layers.MaxPooling2D((2, 2)))\n",
    "model.add(layers.Conv2D(128, (3, 3), activation='relu'))\n",
    "model.add(layers.MaxPooling2D((2, 2)))\n",
    "model.add(layers.Flatten())\n",
    "model.add(layers.Dense(512, activation='relu'))\n",
    "model.add(layers.Dense(3, activation='softmax'))"
   ]
  },
  {
   "cell_type": "markdown",
   "metadata": {},
   "source": []
  },
  {
   "cell_type": "code",
   "execution_count": 29,
   "metadata": {},
   "outputs": [
    {
     "name": "stdout",
     "output_type": "stream",
     "text": [
      "Model: \"sequential_3\"\n",
      "_________________________________________________________________\n",
      "Layer (type)                 Output Shape              Param #   \n",
      "=================================================================\n",
      "conv2d_9 (Conv2D)            (None, 148, 148, 32)      896       \n",
      "_________________________________________________________________\n",
      "max_pooling2d_9 (MaxPooling2 (None, 74, 74, 32)        0         \n",
      "_________________________________________________________________\n",
      "conv2d_10 (Conv2D)           (None, 72, 72, 64)        18496     \n",
      "_________________________________________________________________\n",
      "max_pooling2d_10 (MaxPooling (None, 36, 36, 64)        0         \n",
      "_________________________________________________________________\n",
      "conv2d_11 (Conv2D)           (None, 34, 34, 128)       73856     \n",
      "_________________________________________________________________\n",
      "max_pooling2d_11 (MaxPooling (None, 17, 17, 128)       0         \n",
      "_________________________________________________________________\n",
      "conv2d_12 (Conv2D)           (None, 15, 15, 128)       147584    \n",
      "_________________________________________________________________\n",
      "max_pooling2d_12 (MaxPooling (None, 7, 7, 128)         0         \n",
      "_________________________________________________________________\n",
      "flatten_3 (Flatten)          (None, 6272)              0         \n",
      "_________________________________________________________________\n",
      "dense_5 (Dense)              (None, 512)               3211776   \n",
      "_________________________________________________________________\n",
      "dense_6 (Dense)              (None, 3)                 1539      \n",
      "=================================================================\n",
      "Total params: 3,454,147\n",
      "Trainable params: 3,454,147\n",
      "Non-trainable params: 0\n",
      "_________________________________________________________________\n"
     ]
    }
   ],
   "source": [
    "model.summary()"
   ]
  },
  {
   "cell_type": "code",
   "execution_count": 30,
   "metadata": {},
   "outputs": [],
   "source": [
    "from keras import optimizers\n",
    "\n",
    "model.compile(loss='categorical_crossentropy',\n",
    "              optimizer='rmsprop',\n",
    "              metrics=['acc'])"
   ]
  },
  {
   "cell_type": "code",
   "execution_count": 31,
   "metadata": {},
   "outputs": [
    {
     "name": "stdout",
     "output_type": "stream",
     "text": [
      "Found 72 images belonging to 3 classes.\n",
      "Found 18 images belonging to 3 classes.\n"
     ]
    }
   ],
   "source": [
    "from keras.preprocessing.image import ImageDataGenerator\n",
    "\n",
    "# All images will be rescaled by 1./255\n",
    "train_datagen = ImageDataGenerator(rescale=1./255)\n",
    "test_datagen = ImageDataGenerator(rescale=1./255)\n",
    "\n",
    "train_generator = train_datagen.flow_from_directory(\n",
    "        # This is the target directory\n",
    "        train_dir,\n",
    "        # All images will be resized to 150x150\n",
    "        target_size=(150, 150),\n",
    "        batch_size=20,\n",
    "        # Since we use binary_crossentropy loss, we need binary labels\n",
    "        class_mode='categorical')\n",
    "\n",
    "validation_generator = test_datagen.flow_from_directory(\n",
    "        validation_dir,\n",
    "        target_size=(150, 150),\n",
    "        batch_size=20,\n",
    "        class_mode='categorical')"
   ]
  },
  {
   "cell_type": "code",
   "execution_count": 32,
   "metadata": {},
   "outputs": [
    {
     "name": "stdout",
     "output_type": "stream",
     "text": [
      "data batch shape: (20, 150, 150, 3)\n",
      "labels batch shape: (20, 3)\n"
     ]
    }
   ],
   "source": [
    "for data_batch, labels_batch in train_generator:\n",
    "    print('data batch shape:', data_batch.shape)\n",
    "    print('labels batch shape:', labels_batch.shape)\n",
    "    break"
   ]
  },
  {
   "cell_type": "code",
   "execution_count": 33,
   "metadata": {},
   "outputs": [
    {
     "name": "stdout",
     "output_type": "stream",
     "text": [
      "Epoch 1/10\n",
      "50/50 [==============================] - 40s 805ms/step - loss: 0.6585 - acc: 0.7026 - val_loss: 2.2711 - val_acc: 0.3333\n",
      "Epoch 2/10\n",
      "50/50 [==============================] - 38s 764ms/step - loss: 0.1783 - acc: 0.9256 - val_loss: 3.7845 - val_acc: 0.3333\n",
      "Epoch 3/10\n",
      "50/50 [==============================] - 38s 758ms/step - loss: 0.0329 - acc: 0.9917 - val_loss: 5.4965 - val_acc: 0.3333\n",
      "Epoch 4/10\n",
      "50/50 [==============================] - 39s 782ms/step - loss: 0.0190 - acc: 0.9950 - val_loss: 5.7390 - val_acc: 0.3333\n",
      "Epoch 5/10\n",
      "50/50 [==============================] - 40s 790ms/step - loss: 6.6590e-05 - acc: 1.0000 - val_loss: 7.3140 - val_acc: 0.3333\n",
      "Epoch 6/10\n",
      "50/50 [==============================] - 39s 786ms/step - loss: 4.0323e-06 - acc: 1.0000 - val_loss: 8.2339 - val_acc: 0.3333\n",
      "Epoch 7/10\n",
      "50/50 [==============================] - 45s 891ms/step - loss: 3.5271e-07 - acc: 1.0000 - val_loss: 8.7989 - val_acc: 0.3333\n",
      "Epoch 8/10\n",
      "50/50 [==============================] - 54s 1s/step - loss: 1.2667e-07 - acc: 1.0000 - val_loss: 8.9159 - val_acc: 0.3333\n",
      "Epoch 9/10\n",
      "50/50 [==============================] - 46s 924ms/step - loss: 1.1921e-07 - acc: 1.0000 - val_loss: 8.9336 - val_acc: 0.3333\n",
      "Epoch 10/10\n",
      "50/50 [==============================] - 44s 875ms/step - loss: 1.1921e-07 - acc: 1.0000 - val_loss: 8.9336 - val_acc: 0.3333\n"
     ]
    }
   ],
   "source": [
    "history = model.fit_generator(\n",
    "      train_generator,\n",
    "      steps_per_epoch=50,\n",
    "      epochs=10,\n",
    "      validation_data=validation_generator,\n",
    "      validation_steps=50)"
   ]
  },
  {
   "cell_type": "code",
   "execution_count": 34,
   "metadata": {},
   "outputs": [],
   "source": [
    "model.save('ayn_be_che_small_1.h5')"
   ]
  },
  {
   "cell_type": "code",
   "execution_count": 36,
   "metadata": {},
   "outputs": [
    {
     "data": {
      "image/png": "[encoded data removed]",
      "text/plain": [
       "<Figure size 432x288 with 1 Axes>"
      ]
     },
     "metadata": {
      "needs_background": "light"
     },
     "output_type": "display_data"
    },
    {
     "data": {
      "image/png": "[encoded data removed]",
      "text/plain": [
       "<Figure size 432x288 with 1 Axes>"
      ]
     },
     "metadata": {
      "needs_background": "light"
     },
     "output_type": "display_data"
    }
   ],
   "source": [
    "import matplotlib.pyplot as plt\n",
    "\n",
    "acc = history.history['acc']\n",
    "val_acc = history.history['val_acc']\n",
    "loss = history.history['loss']\n",
    "val_loss = history.history['val_loss']\n",
    "\n",
    "epochs = range(len(acc))\n",
    "\n",
    "plt.plot(epochs, acc, 'bo', label='Training acc')\n",
    "plt.plot(epochs, val_acc, 'b', label='Validation acc')\n",
    "plt.title('Training and validation accuracy')\n",
    "plt.legend()\n",
    "\n",
    "plt.figure()\n",
    "\n",
    "plt.plot(epochs, loss, 'bo', label='Training loss')\n",
    "plt.plot(epochs, val_loss, 'b', label='Validation loss')\n",
    "plt.title('Training and validation loss')\n",
    "plt.legend()\n",
    "\n",
    "plt.show()"
   ]
  },
  {
   "cell_type": "code",
   "execution_count": null,
   "metadata": {},
   "outputs": [],
   "source": []
  }
 ],
 "metadata": {
  "kernelspec": {
   "display_name": "Python 3",
   "language": "python",
   "name": "python3"
  },
  "language_info": {
   "codemirror_mode": {
    "name": "ipython",
    "version": 3
   },
   "file_extension": ".py",
   "mimetype": "text/x-python",
   "name": "python",
   "nbconvert_exporter": "python",
   "pygments_lexer": "ipython3",
   "version": "3.7.3"
  }
 },
 "nbformat": 4,
 "nbformat_minor": 2
}
